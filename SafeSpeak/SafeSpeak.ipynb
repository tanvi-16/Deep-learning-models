{
 "cells": [
  {
   "cell_type": "code",
   "execution_count": 1,
   "id": "a8cb7659",
   "metadata": {},
   "outputs": [
    {
     "name": "stdout",
     "output_type": "stream",
     "text": [
      "Epoch 1/10\n",
      "1/1 [==============================] - 5s 5s/step - loss: 0.6918 - accuracy: 0.7500 - val_loss: 0.6960 - val_accuracy: 0.5000\n",
      "Epoch 2/10\n",
      "1/1 [==============================] - 0s 88ms/step - loss: 0.6875 - accuracy: 0.7500 - val_loss: 0.6962 - val_accuracy: 0.5000\n",
      "Epoch 3/10\n",
      "1/1 [==============================] - 0s 97ms/step - loss: 0.6913 - accuracy: 0.7500 - val_loss: 0.6963 - val_accuracy: 0.0000e+00\n",
      "Epoch 4/10\n",
      "1/1 [==============================] - 0s 56ms/step - loss: 0.6867 - accuracy: 1.0000 - val_loss: 0.6964 - val_accuracy: 0.0000e+00\n",
      "Epoch 5/10\n",
      "1/1 [==============================] - 0s 46ms/step - loss: 0.6856 - accuracy: 0.7500 - val_loss: 0.6965 - val_accuracy: 0.0000e+00\n",
      "Epoch 6/10\n",
      "1/1 [==============================] - 0s 40ms/step - loss: 0.6782 - accuracy: 1.0000 - val_loss: 0.6966 - val_accuracy: 0.0000e+00\n",
      "Epoch 7/10\n",
      "1/1 [==============================] - 0s 34ms/step - loss: 0.6828 - accuracy: 1.0000 - val_loss: 0.6968 - val_accuracy: 0.0000e+00\n",
      "Epoch 8/10\n",
      "1/1 [==============================] - 0s 34ms/step - loss: 0.6799 - accuracy: 0.7500 - val_loss: 0.6970 - val_accuracy: 0.5000\n",
      "Epoch 9/10\n",
      "1/1 [==============================] - 0s 34ms/step - loss: 0.6764 - accuracy: 1.0000 - val_loss: 0.6973 - val_accuracy: 0.5000\n",
      "Epoch 10/10\n",
      "1/1 [==============================] - 0s 52ms/step - loss: 0.6747 - accuracy: 1.0000 - val_loss: 0.6977 - val_accuracy: 0.5000\n"
     ]
    }
   ],
   "source": [
    "import pandas as pd\n",
    "import numpy as np\n",
    "import re\n",
    "import tensorflow as tf\n",
    "from tensorflow.keras.preprocessing.text import Tokenizer\n",
    "from tensorflow.keras.preprocessing.sequence import pad_sequences\n",
    "from tensorflow.keras.models import Sequential\n",
    "from tensorflow.keras.layers import Embedding, LSTM, Dense, SpatialDropout1D\n",
    "from sklearn.model_selection import train_test_split\n",
    "\n",
    "# Sample dataset (replace with a real dataset)\n",
    "data = {\n",
    "    \"text\": [\n",
    "        \"You are amazing!\",\n",
    "        \"I hate you!\",\n",
    "        \"Great job on your work.\",\n",
    "        \"You are so stupid!\",\n",
    "        \"Fantastic effort!\",\n",
    "        \"Get lost, idiot!\"\n",
    "    ],\n",
    "    \"label\": [0, 1, 0, 1, 0, 1]  # 0 = Safe, 1 = Harmful\n",
    "}\n",
    "df = pd.DataFrame(data)\n",
    "\n",
    "# Text preprocessing\n",
    "def clean_text(text):\n",
    "    text = text.lower()\n",
    "    text = re.sub(r'[^a-zA-Z\\s]', '', text)\n",
    "    return text\n",
    "\n",
    "df['cleaned_text'] = df['text'].apply(clean_text)\n",
    "\n",
    "# Tokenization\n",
    "tokenizer = Tokenizer()\n",
    "tokenizer.fit_on_texts(df['cleaned_text'])\n",
    "X = tokenizer.texts_to_sequences(df['cleaned_text'])\n",
    "X = pad_sequences(X, padding='post')\n",
    "y = np.array(df['label'])\n",
    "\n",
    "# Splitting dataset\n",
    "X_train, X_test, y_train, y_test = train_test_split(X, y, test_size=0.2, random_state=42)\n",
    "\n",
    "# Define the model\n",
    "vocab_size = len(tokenizer.word_index) + 1\n",
    "embedding_dim = 64\n",
    "max_length = X.shape[1]\n",
    "\n",
    "model = Sequential([\n",
    "    Embedding(vocab_size, embedding_dim, input_length=max_length),\n",
    "    SpatialDropout1D(0.2),\n",
    "    LSTM(64, dropout=0.2, recurrent_dropout=0.2),\n",
    "    Dense(1, activation='sigmoid')\n",
    "])\n",
    "\n",
    "model.compile(loss='binary_crossentropy', optimizer='adam', metrics=['accuracy'])\n",
    "\n",
    "# Train the model\n",
    "model.fit(X_train, y_train, epochs=10, batch_size=4, validation_data=(X_test, y_test))\n",
    "\n",
    "# Save the model\n",
    "model.save(\"safespeak.h5\")\n"
   ]
  },
  {
   "cell_type": "code",
   "execution_count": 2,
   "id": "eb19e5a4",
   "metadata": {},
   "outputs": [
    {
     "name": "stdout",
     "output_type": "stream",
     "text": [
      "Prediction: Harmful\n"
     ]
    }
   ],
   "source": [
    "import numpy as np\n",
    "from tensorflow.keras.models import load_model\n",
    "from tensorflow.keras.preprocessing.sequence import pad_sequences\n",
    "import re\n",
    "\n",
    "# Load the trained model\n",
    "model = load_model(\"safespeak_model.h5\")\n",
    "\n",
    "# Define text preprocessing function\n",
    "def clean_text(text):\n",
    "    text = text.lower()\n",
    "    text = re.sub(r'[^a-zA-Z\\s]', '', text)  # Remove special characters\n",
    "    return text\n",
    "\n",
    "# Function to predict if content is offensive\n",
    "def predict_text(text):\n",
    "    text = clean_text(text)  # Apply the same preprocessing\n",
    "    sequence = tokenizer.texts_to_sequences([text])  # Tokenize\n",
    "    padded_sequence = pad_sequences(sequence, maxlen=X.shape[1], padding='post')  # Pad sequence\n",
    "    prediction = model.predict(padded_sequence)[0][0]  # Get prediction probability\n",
    "    return \"Harmful\" if prediction >= 0.5 else \"Safe\"\n",
    "\n",
    "# Test with a new sentence\n",
    "test_text = \"\"\" What the fuck \"\"\" \n",
    "print(f\"Prediction: {predict_text(test_text)}\")\n"
   ]
  },
  {
   "cell_type": "code",
   "execution_count": null,
   "id": "f4c4be32",
   "metadata": {},
   "outputs": [],
   "source": []
  }
 ],
 "metadata": {
  "kernelspec": {
   "display_name": "Python 3",
   "language": "python",
   "name": "python3"
  },
  "language_info": {
   "codemirror_mode": {
    "name": "ipython",
    "version": 3
   },
   "file_extension": ".py",
   "mimetype": "text/x-python",
   "name": "python",
   "nbconvert_exporter": "python",
   "pygments_lexer": "ipython3",
   "version": "3.6.6"
  }
 },
 "nbformat": 4,
 "nbformat_minor": 5
}
