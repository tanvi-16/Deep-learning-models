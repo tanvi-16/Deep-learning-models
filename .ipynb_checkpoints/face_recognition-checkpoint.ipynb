{
 "cells": [
  {
   "cell_type": "code",
   "execution_count": 1,
   "id": "48328919-3785-4e32-b76b-d5d5727e007c",
   "metadata": {},
   "outputs": [],
   "source": [
    "from keras.layers import Input, Lambda, Dense, Flatten\n",
    "from keras.models import Model\n",
    "from keras.applications.vgg16 import VGG16\n",
    "from keras.applications.vgg16 import preprocess_input\n",
    "from keras.preprocessing import image\n",
    "from keras.preprocessing.image import ImageDataGenerator\n",
    "from keras.models import Sequential\n",
    "import numpy as np\n",
    "from glob import glob\n",
    "import matplotlib.pyplot as plt\n",
    "import tensorflow as tf\n",
    "from keras.models import load_model"
   ]
  },
  {
   "cell_type": "code",
   "execution_count": 2,
   "id": "c21f5e7d-088f-4320-94ce-b1267028fa68",
   "metadata": {},
   "outputs": [],
   "source": [
    "# re-size all the images to this\n",
    "IMAGE_SIZE = [224, 224]\n",
    "\n",
    "train_path = 'Datasets/Train'\n",
    "valid_path = 'Datasets/Test'"
   ]
  },
  {
   "cell_type": "code",
   "execution_count": 3,
   "id": "ee3def13",
   "metadata": {},
   "outputs": [],
   "source": [
    "# add preprocessing layer to the front of VGG\n",
    "vgg = VGG16(input_shape=IMAGE_SIZE + [3], weights='imagenet', include_top=False)\n",
    "\n",
    "# don't train existing weights\n",
    "for layer in vgg.layers:\n",
    "  layer.trainable = False"
   ]
  },
  {
   "cell_type": "code",
   "execution_count": 4,
   "id": "82cc8cba",
   "metadata": {},
   "outputs": [],
   "source": [
    "# useful for getting number of classes\n",
    "folders = glob('Datasets/Train/*')"
   ]
  },
  {
   "cell_type": "code",
   "execution_count": 5,
   "id": "fdf0ccbe",
   "metadata": {},
   "outputs": [],
   "source": [
    "# our layers - you can add more if you want\n",
    "x = Flatten()(vgg.output)\n",
    "# x = Dense(1000, activation='relu')(x)\n",
    "prediction = Dense(len(folders), activation='softmax')(x)"
   ]
  },
  {
   "cell_type": "code",
   "execution_count": 6,
   "id": "d3ca2b73",
   "metadata": {},
   "outputs": [],
   "source": [
    "# create a model object\n",
    "model = Model(inputs=vgg.input, outputs=prediction)"
   ]
  },
  {
   "cell_type": "code",
   "execution_count": 7,
   "id": "d67de8cc",
   "metadata": {},
   "outputs": [
    {
     "name": "stdout",
     "output_type": "stream",
     "text": [
      "Model: \"model\"\n",
      "_________________________________________________________________\n",
      "Layer (type)                 Output Shape              Param #   \n",
      "=================================================================\n",
      "input_1 (InputLayer)         [(None, 224, 224, 3)]     0         \n",
      "_________________________________________________________________\n",
      "block1_conv1 (Conv2D)        (None, 224, 224, 64)      1792      \n",
      "_________________________________________________________________\n",
      "block1_conv2 (Conv2D)        (None, 224, 224, 64)      36928     \n",
      "_________________________________________________________________\n",
      "block1_pool (MaxPooling2D)   (None, 112, 112, 64)      0         \n",
      "_________________________________________________________________\n",
      "block2_conv1 (Conv2D)        (None, 112, 112, 128)     73856     \n",
      "_________________________________________________________________\n",
      "block2_conv2 (Conv2D)        (None, 112, 112, 128)     147584    \n",
      "_________________________________________________________________\n",
      "block2_pool (MaxPooling2D)   (None, 56, 56, 128)       0         \n",
      "_________________________________________________________________\n",
      "block3_conv1 (Conv2D)        (None, 56, 56, 256)       295168    \n",
      "_________________________________________________________________\n",
      "block3_conv2 (Conv2D)        (None, 56, 56, 256)       590080    \n",
      "_________________________________________________________________\n",
      "block3_conv3 (Conv2D)        (None, 56, 56, 256)       590080    \n",
      "_________________________________________________________________\n",
      "block3_pool (MaxPooling2D)   (None, 28, 28, 256)       0         \n",
      "_________________________________________________________________\n",
      "block4_conv1 (Conv2D)        (None, 28, 28, 512)       1180160   \n",
      "_________________________________________________________________\n",
      "block4_conv2 (Conv2D)        (None, 28, 28, 512)       2359808   \n",
      "_________________________________________________________________\n",
      "block4_conv3 (Conv2D)        (None, 28, 28, 512)       2359808   \n",
      "_________________________________________________________________\n",
      "block4_pool (MaxPooling2D)   (None, 14, 14, 512)       0         \n",
      "_________________________________________________________________\n",
      "block5_conv1 (Conv2D)        (None, 14, 14, 512)       2359808   \n",
      "_________________________________________________________________\n",
      "block5_conv2 (Conv2D)        (None, 14, 14, 512)       2359808   \n",
      "_________________________________________________________________\n",
      "block5_conv3 (Conv2D)        (None, 14, 14, 512)       2359808   \n",
      "_________________________________________________________________\n",
      "block5_pool (MaxPooling2D)   (None, 7, 7, 512)         0         \n",
      "_________________________________________________________________\n",
      "flatten (Flatten)            (None, 25088)             0         \n",
      "_________________________________________________________________\n",
      "dense (Dense)                (None, 4)                 100356    \n",
      "=================================================================\n",
      "Total params: 14,815,044\n",
      "Trainable params: 100,356\n",
      "Non-trainable params: 14,714,688\n",
      "_________________________________________________________________\n"
     ]
    }
   ],
   "source": [
    "# view the structure of the model\n",
    "model.summary()"
   ]
  },
  {
   "cell_type": "code",
   "execution_count": 8,
   "id": "aa509e3f",
   "metadata": {},
   "outputs": [],
   "source": [
    "# tell the model what cost and optimization method to use\n",
    "model.compile(\n",
    "  loss='categorical_crossentropy',\n",
    "  optimizer='adam',\n",
    "  metrics=['accuracy']\n",
    ")"
   ]
  },
  {
   "cell_type": "code",
   "execution_count": 9,
   "id": "68dd45be",
   "metadata": {},
   "outputs": [],
   "source": [
    "from keras.preprocessing.image import ImageDataGenerator\n",
    "\n",
    "train_datagen = ImageDataGenerator(rescale = 1./255,\n",
    "                                   shear_range = 0.2,\n",
    "                                   zoom_range = 0.2,\n",
    "                                   horizontal_flip = True)\n",
    "\n",
    "test_datagen = ImageDataGenerator(rescale = 1./255)"
   ]
  },
  {
   "cell_type": "code",
   "execution_count": 10,
   "id": "c46eebcb",
   "metadata": {},
   "outputs": [
    {
     "name": "stdout",
     "output_type": "stream",
     "text": [
      "Found 800 images belonging to 4 classes.\n",
      "Found 200 images belonging to 1 classes.\n"
     ]
    }
   ],
   "source": [
    "training_set = train_datagen.flow_from_directory('Datasets/Train',\n",
    "                                                 target_size = (224, 224),\n",
    "                                                 batch_size = 32,\n",
    "                                                 class_mode = 'categorical')\n",
    "\n",
    "test_set = test_datagen.flow_from_directory('Datasets/Test',\n",
    "                                            target_size = (224, 224),\n",
    "                                            batch_size = 32,\n",
    "                                            class_mode = 'categorical')"
   ]
  },
  {
   "cell_type": "code",
   "execution_count": 11,
   "id": "b6decf3d",
   "metadata": {},
   "outputs": [
    {
     "data": {
      "text/plain": [
       "'r=model.fit_generator(training_set,\\n                         samples_per_epoch = 8000,\\n                         nb_epoch = 5,\\n                         validation_data = test_set,\\n                         nb_val_samples = 2000)'"
      ]
     },
     "execution_count": 11,
     "metadata": {},
     "output_type": "execute_result"
    }
   ],
   "source": [
    "'''r=model.fit_generator(training_set,\n",
    "                         samples_per_epoch = 8000,\n",
    "                         nb_epoch = 5,\n",
    "                         validation_data = test_set,\n",
    "                         nb_val_samples = 2000)'''"
   ]
  },
  {
   "cell_type": "code",
   "execution_count": 12,
   "id": "d97c7355",
   "metadata": {},
   "outputs": [
    {
     "name": "stderr",
     "output_type": "stream",
     "text": [
      "c:\\users\\admin\\vebuin_training\\mini_projects\\face_login\\myenv\\lib\\site-packages\\keras\\engine\\training.py:1972: UserWarning: `Model.fit_generator` is deprecated and will be removed in a future version. Please use `Model.fit`, which supports generators.\n",
      "  warnings.warn('`Model.fit_generator` is deprecated and '\n"
     ]
    },
    {
     "name": "stdout",
     "output_type": "stream",
     "text": [
      "Epoch 1/50\n",
      "25/25 [==============================] - 86s 3s/step - loss: 0.2738 - accuracy: 0.9100 - val_loss: 44.3403 - val_accuracy: 0.0000e+00\n",
      "Epoch 2/50\n",
      "25/25 [==============================] - 86s 3s/step - loss: 0.0039 - accuracy: 1.0000 - val_loss: 47.6861 - val_accuracy: 0.0000e+00\n",
      "Epoch 3/50\n",
      "25/25 [==============================] - 86s 3s/step - loss: 0.0022 - accuracy: 1.0000 - val_loss: 48.5138 - val_accuracy: 0.0000e+00\n",
      "Epoch 4/50\n",
      "25/25 [==============================] - 86s 3s/step - loss: 0.0019 - accuracy: 1.0000 - val_loss: 49.4074 - val_accuracy: 0.0000e+00\n",
      "Epoch 5/50\n",
      "25/25 [==============================] - 87s 3s/step - loss: 0.0013 - accuracy: 1.0000 - val_loss: 49.1558 - val_accuracy: 0.0000e+00\n",
      "Epoch 6/50\n",
      "25/25 [==============================] - 91s 4s/step - loss: 0.0011 - accuracy: 1.0000 - val_loss: 47.9419 - val_accuracy: 0.0000e+00\n",
      "Epoch 7/50\n",
      "25/25 [==============================] - 90s 4s/step - loss: 0.0010 - accuracy: 1.0000 - val_loss: 47.9731 - val_accuracy: 0.0000e+00\n",
      "Epoch 8/50\n",
      "25/25 [==============================] - 90s 4s/step - loss: 9.9301e-04 - accuracy: 1.0000 - val_loss: 48.2735 - val_accuracy: 0.0000e+00\n",
      "Epoch 9/50\n",
      "25/25 [==============================] - 89s 4s/step - loss: 8.8505e-04 - accuracy: 1.0000 - val_loss: 48.9529 - val_accuracy: 0.0000e+00\n",
      "Epoch 10/50\n",
      "25/25 [==============================] - 89s 4s/step - loss: 8.5199e-04 - accuracy: 1.0000 - val_loss: 48.9935 - val_accuracy: 0.0000e+00\n",
      "Epoch 11/50\n",
      "25/25 [==============================] - 88s 4s/step - loss: 5.7692e-04 - accuracy: 1.0000 - val_loss: 48.9263 - val_accuracy: 0.0000e+00\n",
      "Epoch 12/50\n",
      "25/25 [==============================] - 89s 4s/step - loss: 6.7527e-04 - accuracy: 1.0000 - val_loss: 49.8176 - val_accuracy: 0.0000e+00\n",
      "Epoch 13/50\n",
      "25/25 [==============================] - 90s 4s/step - loss: 6.2868e-04 - accuracy: 1.0000 - val_loss: 49.3877 - val_accuracy: 0.0000e+00\n",
      "Epoch 14/50\n",
      "25/25 [==============================] - 90s 4s/step - loss: 4.7634e-04 - accuracy: 1.0000 - val_loss: 49.7700 - val_accuracy: 0.0000e+00\n",
      "Epoch 15/50\n",
      "25/25 [==============================] - 90s 4s/step - loss: 4.3939e-04 - accuracy: 1.0000 - val_loss: 50.5185 - val_accuracy: 0.0000e+00\n",
      "Epoch 16/50\n",
      "25/25 [==============================] - 89s 4s/step - loss: 3.8039e-04 - accuracy: 1.0000 - val_loss: 50.0869 - val_accuracy: 0.0000e+00\n",
      "Epoch 17/50\n",
      "25/25 [==============================] - 88s 4s/step - loss: 3.8544e-04 - accuracy: 1.0000 - val_loss: 50.1887 - val_accuracy: 0.0000e+00\n",
      "Epoch 18/50\n",
      "25/25 [==============================] - 89s 4s/step - loss: 3.9501e-04 - accuracy: 1.0000 - val_loss: 50.3555 - val_accuracy: 0.0000e+00\n",
      "Epoch 19/50\n",
      "25/25 [==============================] - 89s 4s/step - loss: 3.8442e-04 - accuracy: 1.0000 - val_loss: 50.5625 - val_accuracy: 0.0000e+00\n",
      "Epoch 20/50\n",
      "25/25 [==============================] - 89s 4s/step - loss: 2.6732e-04 - accuracy: 1.0000 - val_loss: 50.2472 - val_accuracy: 0.0000e+00\n",
      "Epoch 21/50\n",
      "25/25 [==============================] - 90s 4s/step - loss: 3.1705e-04 - accuracy: 1.0000 - val_loss: 50.1656 - val_accuracy: 0.0000e+00\n",
      "Epoch 22/50\n",
      "25/25 [==============================] - 89s 4s/step - loss: 2.5376e-04 - accuracy: 1.0000 - val_loss: 50.2912 - val_accuracy: 0.0000e+00\n",
      "Epoch 23/50\n",
      "25/25 [==============================] - 89s 4s/step - loss: 2.9304e-04 - accuracy: 1.0000 - val_loss: 50.6847 - val_accuracy: 0.0000e+00\n",
      "Epoch 24/50\n",
      "25/25 [==============================] - 89s 4s/step - loss: 2.3616e-04 - accuracy: 1.0000 - val_loss: 50.8606 - val_accuracy: 0.0000e+00\n",
      "Epoch 25/50\n",
      "25/25 [==============================] - 89s 4s/step - loss: 2.4711e-04 - accuracy: 1.0000 - val_loss: 50.5594 - val_accuracy: 0.0000e+00\n",
      "Epoch 26/50\n",
      "25/25 [==============================] - 90s 4s/step - loss: 2.1737e-04 - accuracy: 1.0000 - val_loss: 50.8084 - val_accuracy: 0.0000e+00\n",
      "Epoch 27/50\n",
      "25/25 [==============================] - 87s 4s/step - loss: 1.7102e-04 - accuracy: 1.0000 - val_loss: 51.1175 - val_accuracy: 0.0000e+00\n",
      "Epoch 28/50\n",
      "25/25 [==============================] - 90s 4s/step - loss: 2.2351e-04 - accuracy: 1.0000 - val_loss: 51.1761 - val_accuracy: 0.0000e+00\n",
      "Epoch 29/50\n",
      "25/25 [==============================] - 89s 4s/step - loss: 1.9422e-04 - accuracy: 1.0000 - val_loss: 51.3803 - val_accuracy: 0.0000e+00\n",
      "Epoch 30/50\n",
      "25/25 [==============================] - 88s 4s/step - loss: 1.9266e-04 - accuracy: 1.0000 - val_loss: 51.1741 - val_accuracy: 0.0000e+00\n",
      "Epoch 31/50\n",
      "25/25 [==============================] - 89s 4s/step - loss: 1.9294e-04 - accuracy: 1.0000 - val_loss: 51.5586 - val_accuracy: 0.0000e+00\n",
      "Epoch 32/50\n",
      "25/25 [==============================] - 90s 4s/step - loss: 1.8706e-04 - accuracy: 1.0000 - val_loss: 51.9124 - val_accuracy: 0.0000e+00\n",
      "Epoch 33/50\n",
      "25/25 [==============================] - 86s 3s/step - loss: 1.7794e-04 - accuracy: 1.0000 - val_loss: 51.9809 - val_accuracy: 0.0000e+00\n",
      "Epoch 34/50\n",
      "25/25 [==============================] - 86s 3s/step - loss: 1.7405e-04 - accuracy: 1.0000 - val_loss: 52.4752 - val_accuracy: 0.0000e+00\n",
      "Epoch 35/50\n",
      "25/25 [==============================] - 85s 3s/step - loss: 1.2968e-04 - accuracy: 1.0000 - val_loss: 52.4715 - val_accuracy: 0.0000e+00\n",
      "Epoch 36/50\n",
      "25/25 [==============================] - 86s 3s/step - loss: 1.7380e-04 - accuracy: 1.0000 - val_loss: 52.4596 - val_accuracy: 0.0000e+00\n",
      "Epoch 37/50\n",
      "25/25 [==============================] - 86s 3s/step - loss: 1.3062e-04 - accuracy: 1.0000 - val_loss: 52.4197 - val_accuracy: 0.0000e+00\n",
      "Epoch 38/50\n",
      "25/25 [==============================] - 85s 3s/step - loss: 1.2381e-04 - accuracy: 1.0000 - val_loss: 52.5097 - val_accuracy: 0.0000e+00\n",
      "Epoch 39/50\n",
      "25/25 [==============================] - 86s 3s/step - loss: 1.4453e-04 - accuracy: 1.0000 - val_loss: 53.1642 - val_accuracy: 0.0000e+00\n",
      "Epoch 40/50\n",
      "25/25 [==============================] - 86s 3s/step - loss: 1.2120e-04 - accuracy: 1.0000 - val_loss: 53.0203 - val_accuracy: 0.0000e+00\n",
      "Epoch 41/50\n",
      "25/25 [==============================] - 86s 3s/step - loss: 1.2145e-04 - accuracy: 1.0000 - val_loss: 53.5853 - val_accuracy: 0.0000e+00\n",
      "Epoch 42/50\n",
      "25/25 [==============================] - 85s 3s/step - loss: 1.1314e-04 - accuracy: 1.0000 - val_loss: 53.2981 - val_accuracy: 0.0000e+00\n",
      "Epoch 43/50\n",
      "25/25 [==============================] - 86s 3s/step - loss: 1.0040e-04 - accuracy: 1.0000 - val_loss: 53.2866 - val_accuracy: 0.0000e+00\n",
      "Epoch 44/50\n",
      "25/25 [==============================] - 92s 4s/step - loss: 1.0209e-04 - accuracy: 1.0000 - val_loss: 53.3254 - val_accuracy: 0.0000e+00\n",
      "Epoch 45/50\n",
      "25/25 [==============================] - 92s 4s/step - loss: 1.0442e-04 - accuracy: 1.0000 - val_loss: 53.2434 - val_accuracy: 0.0000e+00\n",
      "Epoch 46/50\n",
      "25/25 [==============================] - 90s 4s/step - loss: 9.9787e-05 - accuracy: 1.0000 - val_loss: 53.0222 - val_accuracy: 0.0000e+00\n",
      "Epoch 47/50\n",
      "25/25 [==============================] - 87s 4s/step - loss: 1.2088e-04 - accuracy: 1.0000 - val_loss: 52.7752 - val_accuracy: 0.0000e+00\n",
      "Epoch 48/50\n",
      "25/25 [==============================] - 87s 4s/step - loss: 1.2902e-04 - accuracy: 1.0000 - val_loss: 54.6228 - val_accuracy: 0.0000e+00\n",
      "Epoch 49/50\n",
      "25/25 [==============================] - 88s 4s/step - loss: 1.1580e-04 - accuracy: 1.0000 - val_loss: 54.4005 - val_accuracy: 0.0000e+00\n",
      "Epoch 50/50\n",
      "25/25 [==============================] - 90s 4s/step - loss: 1.0421e-04 - accuracy: 1.0000 - val_loss: 53.7948 - val_accuracy: 0.0000e+00\n"
     ]
    }
   ],
   "source": [
    "# fit the model\n",
    "r = model.fit_generator(\n",
    "  training_set,\n",
    "  validation_data=test_set,\n",
    "  epochs=50,\n",
    "  steps_per_epoch=len(training_set),\n",
    "  validation_steps=len(test_set)\n",
    ")"
   ]
  },
  {
   "cell_type": "code",
   "execution_count": 13,
   "id": "0f095579",
   "metadata": {},
   "outputs": [
    {
     "data": {
      "image/png": "[encoded data removed]",
      "text/plain": [
       "<Figure size 432x288 with 1 Axes>"
      ]
     },
     "metadata": {
      "needs_background": "light"
     },
     "output_type": "display_data"
    },
    {
     "data": {
      "text/plain": [
       "<Figure size 432x288 with 0 Axes>"
      ]
     },
     "metadata": {},
     "output_type": "display_data"
    }
   ],
   "source": [
    "# loss\n",
    "plt.plot(r.history['loss'], label='train loss')\n",
    "plt.plot(r.history['val_loss'], label='val loss')\n",
    "plt.legend()\n",
    "plt.show()\n",
    "plt.savefig('LossVal_loss')"
   ]
  },
  {
   "cell_type": "code",
   "execution_count": 14,
   "id": "a9f14180",
   "metadata": {},
   "outputs": [
    {
     "data": {
      "image/png": "[encoded data removed]",
      "text/plain": [
       "<Figure size 432x288 with 1 Axes>"
      ]
     },
     "metadata": {
      "needs_background": "light"
     },
     "output_type": "display_data"
    },
    {
     "data": {
      "text/plain": [
       "<Figure size 432x288 with 0 Axes>"
      ]
     },
     "metadata": {},
     "output_type": "display_data"
    }
   ],
   "source": [
    "# accuracies\n",
    "plt.plot(r.history['accuracy'], label='train acc')\n",
    "plt.plot(r.history['val_accuracy'], label='val acc')\n",
    "plt.legend()\n",
    "plt.show()\n",
    "plt.savefig('AccVal_acc')"
   ]
  },
  {
   "cell_type": "code",
   "execution_count": 15,
   "id": "f428b06a",
   "metadata": {},
   "outputs": [],
   "source": [
    "model.save('facefeatures_model.h5')"
   ]
  },
  {
   "cell_type": "code",
   "execution_count": null,
   "id": "e91dc91f",
   "metadata": {},
   "outputs": [],
   "source": []
  }
 ],
 "metadata": {
  "kernelspec": {
   "display_name": "Python 3",
   "language": "python",
   "name": "python3"
  },
  "language_info": {
   "codemirror_mode": {
    "name": "ipython",
    "version": 3
   },
   "file_extension": ".py",
   "mimetype": "text/x-python",
   "name": "python",
   "nbconvert_exporter": "python",
   "pygments_lexer": "ipython3",
   "version": "3.6.6"
  }
 },
 "nbformat": 4,
 "nbformat_minor": 5
}
