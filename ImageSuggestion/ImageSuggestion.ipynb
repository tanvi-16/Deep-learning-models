{
 "cells": [
  {
   "cell_type": "code",
   "execution_count": null,
   "id": "9d0fddf4",
   "metadata": {},
   "outputs": [
    {
     "name": "stdout",
     "output_type": "stream",
     "text": [
      "CLIP model loaded successfully!\n",
      "Suggested Image Paths: ['./images\\\\4.jpg', './images\\\\5.jpg', './images\\\\1.jpg']\n"
     ]
    }
   ],
   "source": [
    "import torch\n",
    "import clip\n",
    "from PIL import Image\n",
    "import os\n",
    "\n",
    "device = \"cuda\" if torch.cuda.is_available() else \"cpu\"\n",
    "model, preprocess = clip.load(\"ViT-B/32\", device=device)\n",
    "print(\"CLIP model loaded successfully!\")\n",
    " \n",
    "IMAGE_FOLDER = \"./images\"  \n",
    "image_files = [f for f in os.listdir(IMAGE_FOLDER) if f.endswith(('png', 'jpg', 'jpeg'))]\n",
    "image_paths = [os.path.join(IMAGE_FOLDER, img) for img in image_files]\n",
    "images = [preprocess(Image.open(img)).unsqueeze(0).to(device) for img in image_paths]\n",
    "\n",
    "image_tensors = torch.cat(images)\n",
    "image_features = model.encode_image(image_tensors)\n",
    "image_features /= image_features.norm(dim=-1, keepdim=True)\n",
    "\n",
    "def suggest_images(blog_content, top_n=3):\n",
    "    \"\"\"Suggests the top N most relevant images based on blog content.\"\"\"\n",
    "    text_tokenized = clip.tokenize([blog_content]).to(device)\n",
    "    text_features = model.encode_text(text_tokenized)\n",
    "    text_features /= text_features.norm(dim=-1, keepdim=True)\n",
    "    \n",
    "    similarities = (100.0 * text_features @ image_features.T).softmax(dim=-1)\n",
    "    best_matches = similarities[0].topk(top_n)\n",
    "    \n",
    "    return [image_paths[i] for i in best_matches.indices]\n",
    "\n",
    "blog_content = \"A Pretty sunset near ocean with trees.\"\n",
    "image_suggestions = suggest_images(blog_content)\n",
    "\n",
    "print(\"Suggested Image Paths:\", image_suggestions) \n"
   ]
  },
  {
   "cell_type": "code",
   "execution_count": null,
   "id": "56f561b9",
   "metadata": {},
   "outputs": [],
   "source": []
  },
  {
   "cell_type": "code",
   "execution_count": null,
   "id": "2b194965",
   "metadata": {},
   "outputs": [],
   "source": []
  }
 ],
 "metadata": {
  "kernelspec": {
   "display_name": "Python 3",
   "language": "python",
   "name": "python3"
  },
  "language_info": {
   "codemirror_mode": {
    "name": "ipython",
    "version": 3
   },
   "file_extension": ".py",
   "mimetype": "text/x-python",
   "name": "python",
   "nbconvert_exporter": "python",
   "pygments_lexer": "ipython3",
   "version": "3.6.6"
  }
 },
 "nbformat": 4,
 "nbformat_minor": 5
}
